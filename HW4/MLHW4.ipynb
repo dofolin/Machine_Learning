{
 "cells": [
  {
   "cell_type": "code",
   "execution_count": 19,
   "metadata": {},
   "outputs": [],
   "source": [
    "import itertools\n",
    "import urllib.request\n",
    "import numpy as np\n",
    "import math\n",
    "from sklearn.preprocessing import PolynomialFeatures\n",
    "from liblinear.liblinearutil import *\n",
    "import matplotlib.pyplot as plt"
   ]
  },
  {
   "cell_type": "code",
   "execution_count": 20,
   "metadata": {},
   "outputs": [],
   "source": [
    "def transform(X, Q):\n",
    "    X_output = np.ones_like(X[:, 0])[np.newaxis, :]\n",
    "    for L in range(1, Q+1):\n",
    "        for subset in itertools.combinations_with_replacement(range(len(X[0])), L):\n",
    "            tmp = np.ones_like(X[:, 0])[np.newaxis, :]\n",
    "            for idx in subset:\n",
    "                tmp = tmp*X[:, idx]\n",
    "            X_output = np.vstack((X_output, tmp))\n",
    "    return X_output.T"
   ]
  },
  {
   "cell_type": "code",
   "execution_count": 21,
   "metadata": {},
   "outputs": [],
   "source": [
    "def data(path, Q):\n",
    "    data = np.genfromtxt(path)\n",
    "    y, X_data = data[:, -1], transform(data[:, :-1], Q)\n",
    "    return X_data, y"
   ]
  },
  {
   "cell_type": "markdown",
   "metadata": {},
   "source": [
    "10"
   ]
  },
  {
   "cell_type": "code",
   "execution_count": 22,
   "metadata": {},
   "outputs": [
    {
     "name": "stdout",
     "output_type": "stream",
     "text": [
      "[[ 19.5  12.5   9.    8.    4. ]\n",
      " [100.  100.  100.  100.  100. ]\n",
      " [100.  100.  100.  100.  100. ]]\n",
      "[-6.  2.  2.]\n"
     ]
    }
   ],
   "source": [
    "Q = 3\n",
    "x_train, y_train = data(\"hw4_train.dat\", Q)\n",
    "#x_test, y_test = data(\"hw4_test.dat\", Q)\n",
    "\n",
    "log_lambdas = np.array([2, 0, -2, -4, -6], dtype=float)\n",
    "ans = np.zeros((3, 5))\n",
    "for i in range(len(log_lambdas)):\n",
    "    prob = problem(y_train, x_train)\n",
    "\n",
    "    params = parameter(f\"-s 0 -c {1/10**log_lambdas[i]/2} -e 0.000001 -q\")\n",
    "    m = train(prob, params)\n",
    "    p_label, p_acc, p_val = predict(y_train, x_train, m, \"-q\")\n",
    "    ans[0][i] = p_acc[0]\n",
    "\n",
    "print(100-ans)\n",
    "\n",
    "argans = np.argmax(ans, axis=1)\n",
    "print(log_lambdas[argans])"
   ]
  },
  {
   "cell_type": "code",
   "execution_count": 23,
   "metadata": {},
   "outputs": [],
   "source": [
    "def valid_split(X, y, val_size):\n",
    "    idx = np.random.permutation(len(X))\n",
    "    x_train = X[idx[val_size:]]\n",
    "    x_val = X[idx[:val_size]]\n",
    "    y_train = y[idx[val_size:]]\n",
    "    y_val = y[idx[:val_size]]\n",
    "    return x_train, y_train, x_val, y_val"
   ]
  },
  {
   "cell_type": "code",
   "execution_count": 24,
   "metadata": {},
   "outputs": [],
   "source": [
    "def error_val(x_train, y_train, x_val, y_val):\n",
    "    err = np.full(5, np.inf)\n",
    "    for i in range(len(log_lambdas)):\n",
    "        prob = problem(y_train, x_train)\n",
    "        params = parameter(f\"-s 0 -c {1/10**log_lambdas[i]/2} -e 0.000001 -q\")\n",
    "        m = train(prob, params)\n",
    "        p_label, p_acc, p_val = predict(y_val, x_val, m, \"-q\")\n",
    "        err[i] = 100 - p_acc[0]\n",
    "        if err[i] == np.min(err):\n",
    "            best_m = m\n",
    "\n",
    "    return err, best_m"
   ]
  },
  {
   "cell_type": "markdown",
   "metadata": {},
   "source": [
    "11"
   ]
  },
  {
   "cell_type": "code",
   "execution_count": 32,
   "metadata": {},
   "outputs": [
    {
     "name": "stdout",
     "output_type": "stream",
     "text": [
      "[ 6. 53. 61.  8.  0.]\n"
     ]
    },
    {
     "data": {
      "text/plain": [
       "Text(0, 0.5, 'numbers')"
      ]
     },
     "execution_count": 32,
     "metadata": {},
     "output_type": "execute_result"
    },
    {
     "data": {
      "image/png": "[encoded data removed]",
      "text/plain": [
       "<Figure size 640x480 with 1 Axes>"
      ]
     },
     "metadata": {},
     "output_type": "display_data"
    }
   ],
   "source": [
    "np.random.seed(1126)\n",
    "Q = 3\n",
    "x_data, y_data = data(\"hw4_train.dat\", Q)\n",
    "#x_test, y_test = data(\"hw4_test.dat\", Q)\n",
    "N, train_size, val_size = 128, 120, 80\n",
    "log_lambdas = [2, 0, -2, -4, -6]\n",
    "\n",
    "ans11 = np.zeros(5)\n",
    "\n",
    "\n",
    "for i in range(N):\n",
    "    # Q11: select best lambda by validation\n",
    "    x_train, y_train, x_val, y_val = valid_split(x_data, y_data, val_size)\n",
    "    tmp_err, tmp_m = error_val(x_train, y_train, x_val, y_val)\n",
    "    #print(tmp_err)\n",
    "    ans11[np.argmin(tmp_err)] += 1\n",
    "\n",
    "#print(log_lambdas[np.argmax(ans11)], np.max(ans11))\n",
    "print(ans11)\n",
    "plt.bar( log_lambdas, ans11)\n",
    "plt.xlabel('log10Lambda')\n",
    "plt.ylabel('numbers')"
   ]
  },
  {
   "cell_type": "code",
   "execution_count": 11,
   "metadata": {},
   "outputs": [],
   "source": [
    "def error_cv(x, y, V_fold, i):\n",
    "    err = 0\n",
    "    for v in range(V_fold):\n",
    "        x_train = np.concatenate(\n",
    "            (x[:len(x) // V_fold*v], x[len(x) // V_fold*(v+1):]))\n",
    "        y_train = np.concatenate(\n",
    "            (y[:len(y) // V_fold*v], y[len(y) // V_fold*(v+1):]))\n",
    "        x_val = x[len(x) // V_fold * v: len(x) // V_fold*(v+1)]\n",
    "        y_val = y[len(y) // V_fold * v: len(y) // V_fold*(v+1)]\n",
    "        prob = problem(y_train, x_train)\n",
    "        params = parameter(f\"-s 0 -c {1/10**log_lambdas[i]/2} -e 0.000001 -q\")\n",
    "        m = train(prob, params)\n",
    "        p_label, p_acc, p_val = predict(y_val, x_val, m, \"-q\")\n",
    "        err += 100-p_acc[0]\n",
    "    return err/V_fold"
   ]
  },
  {
   "cell_type": "markdown",
   "metadata": {},
   "source": [
    "12"
   ]
  },
  {
   "cell_type": "code",
   "execution_count": 36,
   "metadata": {},
   "outputs": [
    {
     "name": "stdout",
     "output_type": "stream",
     "text": [
      "[ 0. 75. 52.  1.  0.]\n"
     ]
    },
    {
     "data": {
      "text/plain": [
       "Text(0, 0.5, 'numbers')"
      ]
     },
     "execution_count": 36,
     "metadata": {},
     "output_type": "execute_result"
    },
    {
     "data": {
      "image/png": "[encoded data removed]",
      "text/plain": [
       "<Figure size 640x480 with 1 Axes>"
      ]
     },
     "metadata": {},
     "output_type": "display_data"
    }
   ],
   "source": [
    "np.random.seed(1126)\n",
    "Q = 3\n",
    "x_train, y_train = data(\"hw4_train.dat\", Q)\n",
    "#x_test, y_test = data(\"hw4_test.dat\", Q)\n",
    "N, train_size, val_size = 128, 120, 80\n",
    "V_fold = 5\n",
    "log_lambdas = [2, 0, -2, -4, -6]\n",
    "\n",
    "# Q12\n",
    "err = np.zeros(5)\n",
    "ans12 = np.zeros(5)\n",
    "\n",
    "for j in range(N):\n",
    "    for i in range(len(log_lambdas)):\n",
    "        idx = np.random.permutation(len(x_train))\n",
    "        err[i] = error_cv(x_train[idx], y_train[idx], V_fold, i)\n",
    "        #ans12[np.argmin(err[i])] += 1\n",
    "    ans12[np.argmin(err)] += 1\n",
    "    #print(err)\n",
    "\n",
    "\n",
    "print(ans12)\n",
    "plt.bar( log_lambdas, ans12)\n",
    "plt.xlabel('log10Lambda')\n",
    "plt.ylabel('numbers')"
   ]
  }
 ],
 "metadata": {
  "kernelspec": {
   "display_name": "myenv",
   "language": "python",
   "name": "python3"
  },
  "language_info": {
   "codemirror_mode": {
    "name": "ipython",
    "version": 3
   },
   "file_extension": ".py",
   "mimetype": "text/x-python",
   "name": "python",
   "nbconvert_exporter": "python",
   "pygments_lexer": "ipython3",
   "version": "3.11.3"
  }
 },
 "nbformat": 4,
 "nbformat_minor": 2
}
