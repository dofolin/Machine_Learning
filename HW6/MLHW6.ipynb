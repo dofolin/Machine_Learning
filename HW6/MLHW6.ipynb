{
 "cells": [
  {
   "cell_type": "markdown",
   "metadata": {},
   "source": [
    "Import Package"
   ]
  },
  {
   "cell_type": "code",
   "execution_count": 13,
   "metadata": {},
   "outputs": [],
   "source": [
    "import random\n",
    "import matplotlib.pyplot as plt\n",
    "import urllib.request\n",
    "import numpy as np"
   ]
  },
  {
   "cell_type": "markdown",
   "metadata": {},
   "source": [
    "Load Data"
   ]
  },
  {
   "cell_type": "code",
   "execution_count": 34,
   "metadata": {},
   "outputs": [],
   "source": [
    "def load_libsvm_from_url(url):\n",
    "    response = urllib.request.urlopen(url)\n",
    "    dataset = [line.decode('utf-8').strip().split() for line in response]\n",
    "    data = np.zeros((len(dataset), 11))\n",
    "    for i, line in enumerate(dataset):\n",
    "        for part in line:\n",
    "            index_value = part.split(\":\")\n",
    "            if len(index_value) == 1:\n",
    "                data[i, -1] = float(index_value[0])\n",
    "            else:\n",
    "                index, value = index_value\n",
    "                data[i, int(index) - 1] = float(value)\n",
    "    return data"
   ]
  },
  {
   "cell_type": "markdown",
   "metadata": {},
   "source": [
    "C&RT Algorithm"
   ]
  },
  {
   "cell_type": "code",
   "execution_count": 35,
   "metadata": {},
   "outputs": [],
   "source": [
    "class DecisionTreeCART:\n",
    "    def __init__(self, max_depth=2000, min_size=1):\n",
    "        self.max_depth = max_depth\n",
    "        self.min_size = min_size\n",
    "        self.root = None\n",
    "    def fit(self, X, y):\n",
    "        dataset = [X[i] + [y[i]] for i in range(len(X))]\n",
    "        root = self._get_split(dataset)\n",
    "        self._split(root, self.max_depth, self.min_size, 1)\n",
    "        self.root = root\n",
    "    def predict(self, row):\n",
    "        return self._predict(self.root, row)\n",
    "    def _calculate_squared_error(self, groups, classes):\n",
    "        squared_error = 0.0\n",
    "        for group in groups:\n",
    "            size = float(len(group))\n",
    "            if size == 0:\n",
    "                continue\n",
    "            score = sum([row[-1] for row in group]) / size\n",
    "            squared_error += sum([(row[-1] - score)**2 for row in group])\n",
    "        return squared_error\n",
    "    def _test_split(self, index, value, dataset):\n",
    "        left, right = list(), list()\n",
    "        for row in dataset:\n",
    "            if row[index] < value:\n",
    "                left.append(row)\n",
    "            else:\n",
    "                right.append(row)\n",
    "        return left, right\n",
    "    def _get_split(self, dataset):\n",
    "        b_index, b_value, b_score, b_groups = 999, 999, 999, None\n",
    "        for index in range(len(dataset[0])-1):\n",
    "            for row in dataset:\n",
    "                groups = self._test_split(index, row[index], dataset)\n",
    "                squared_error = self._calculate_squared_error(groups, None)\n",
    "                if squared_error < b_score:\n",
    "                    b_index, b_value, b_score, b_groups = index, row[index], squared_error, groups\n",
    "        return {'index': b_index, 'value': b_value, 'groups': b_groups}\n",
    "    def _to_terminal(self, group):\n",
    "        if not group:\n",
    "            return 0\n",
    "        outcomes = [row[-1] for row in group]\n",
    "        return max(set(outcomes), key=outcomes.count)\n",
    "    def _split(self, node, max_depth, min_size, depth):\n",
    "        if not node:\n",
    "            return\n",
    "        if 'groups' in node and node['groups']:\n",
    "            left, right = node['groups']\n",
    "            del(node['groups'])\n",
    "        else:\n",
    "            node['left'] = node['right'] = self._to_terminal([])\n",
    "            return\n",
    "        if len(left) == 0:\n",
    "            node['left'] = self._to_terminal(right)\n",
    "        else:\n",
    "            if len(left) <= min_size or depth >= max_depth:\n",
    "                node['left'] = self._to_terminal(left)\n",
    "            else:\n",
    "                node['left'] = self._get_split(left)\n",
    "                self._split(node['left'], max_depth, min_size, depth + 1)\n",
    "        if len(right) == 0:\n",
    "            node['right'] = self._to_terminal(left)\n",
    "        else:\n",
    "            if len(right) <= min_size or depth >= max_depth:\n",
    "                node['right'] = self._to_terminal(right)\n",
    "            else:\n",
    "                node['right'] = self._get_split(right)\n",
    "                self._split(node['right'], max_depth, min_size, depth + 1)\n",
    "    def _predict(self, node, row):\n",
    "        if not node or 'index' not in node or node['index'] >= len(row):\n",
    "            return 0\n",
    "        if row[node['index']] < node['value']:\n",
    "            if isinstance(node['left'], dict):\n",
    "                return self._predict(node['left'], row)\n",
    "            else:\n",
    "                return node['left']\n",
    "        else:\n",
    "            if isinstance(node['right'], dict):\n",
    "                return self._predict(node['right'], row)\n",
    "            else:\n",
    "                return node['right']"
   ]
  },
  {
   "cell_type": "markdown",
   "metadata": {},
   "source": [
    "Random Forest"
   ]
  },
  {
   "cell_type": "code",
   "execution_count": 41,
   "metadata": {},
   "outputs": [],
   "source": [
    "class RandomForest:\n",
    "    def __init__(self, num_trees=1, sample_size_ratio=0.5):\n",
    "        self.num_trees = num_trees\n",
    "        self.sample_size_ratio = sample_size_ratio\n",
    "        self.trees = []\n",
    "    def fit(self, X, y):\n",
    "        n_samples = len(X)\n",
    "        for _ in range(self.num_trees):\n",
    "            sample_size = int(n_samples * self.sample_size_ratio)\n",
    "            indices = np.random.randint(0, n_samples, sample_size)\n",
    "            X_sample = X[indices]\n",
    "            y_sample = y[indices]\n",
    "            tree = DecisionTreeCART()\n",
    "            tree.fit(X_sample, y_sample)\n",
    "            self.trees.append(tree)\n",
    "    def calculate_eout(self, X, y):\n",
    "        eouts = []\n",
    "        for tree in self.trees:\n",
    "            n_samples = len(X)\n",
    "            sample_size = int(n_samples * self.sample_size_ratio)\n",
    "            indices = np.random.randint(0, n_samples, sample_size)\n",
    "            X_sample = X[indices]\n",
    "            y_sample = y[indices]\n",
    "            predictions = np.array([tree.predict(x) for x in X_sample])\n",
    "            eout = np.mean((y_sample - predictions) ** 2)\n",
    "            eouts.append(eout)\n",
    "        return eouts"
   ]
  },
  {
   "cell_type": "markdown",
   "metadata": {},
   "source": [
    "Data Ingesting"
   ]
  },
  {
   "cell_type": "code",
   "execution_count": 37,
   "metadata": {},
   "outputs": [],
   "source": [
    "train_data = load_libsvm_from_url('http://www.csie.ntu.edu.tw/~htlin/course/ml23fall/hw6/hw6_train.dat')\n",
    "test_data = load_libsvm_from_url('http://www.csie.ntu.edu.tw/~htlin/course/ml23fall/hw6/hw6_test.dat')\n",
    "X_train, y_train = train_data[:, :-1], train_data[:, -1]\n",
    "X_test, y_test = test_data[:, :-1], test_data[:, -1]"
   ]
  },
  {
   "cell_type": "markdown",
   "metadata": {},
   "source": [
    "9"
   ]
  },
  {
   "cell_type": "code",
   "execution_count": 39,
   "metadata": {},
   "outputs": [],
   "source": [
    "cart = DecisionTreeCART()\n",
    "cart.fit(X_train, y_train)"
   ]
  },
  {
   "cell_type": "code",
   "execution_count": 42,
   "metadata": {},
   "outputs": [
    {
     "data": {
      "text/plain": [
       "106.60245901639344"
      ]
     },
     "execution_count": 42,
     "metadata": {},
     "output_type": "execute_result"
    }
   ],
   "source": [
    "random_forest = RandomForest()\n",
    "random_forest.fit(X_train, y_train)\n",
    "eouts = random_forest.calculate_eout(X_test, y_test)\n",
    "eouts[0]"
   ]
  },
  {
   "cell_type": "markdown",
   "metadata": {},
   "source": [
    "10"
   ]
  },
  {
   "cell_type": "code",
   "execution_count": 32,
   "metadata": {},
   "outputs": [],
   "source": [
    "random_forest = RandomForest()\n",
    "random_forest.fit(X_train, y_train)\n",
    "eouts = random_forest.calculate_eout(X_test, y_test)"
   ]
  },
  {
   "cell_type": "code",
   "execution_count": 33,
   "metadata": {},
   "outputs": [
    {
     "data": {
      "image/png": "[encoded data removed]",
      "text/plain": [
       "<Figure size 640x480 with 1 Axes>"
      ]
     },
     "metadata": {},
     "output_type": "display_data"
    }
   ],
   "source": [
    "plt.hist(eouts, bins=50)\n",
    "plt.xlabel('Eout')\n",
    "plt.ylabel('Frequency')\n",
    "plt.title('Histogram of Eout for 2000 Trees')\n",
    "plt.show()"
   ]
  }
 ],
 "metadata": {
  "kernelspec": {
   "display_name": "base",
   "language": "python",
   "name": "python3"
  },
  "language_info": {
   "codemirror_mode": {
    "name": "ipython",
    "version": 3
   },
   "file_extension": ".py",
   "mimetype": "text/x-python",
   "name": "python",
   "nbconvert_exporter": "python",
   "pygments_lexer": "ipython3",
   "version": "3.11.3"
  }
 },
 "nbformat": 4,
 "nbformat_minor": 2
}
